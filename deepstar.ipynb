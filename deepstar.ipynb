{
 "cells": [
  {
   "cell_type": "code",
   "execution_count": 4,
   "id": "f40f9666-d2d0-4c51-85d9-90fd4acd7687",
   "metadata": {},
   "outputs": [],
   "source": [
    "import pandas as pd\n",
    "import numpy as np\n",
    "from datetime import datetime\n",
    "import jpholiday\n",
    "from sklearn.metrics import mean_absolute_error\n",
    "import xgboost as xgb\n",
    "from sklearn.preprocessing import LabelEncoder"
   ]
  },
  {
   "cell_type": "code",
   "execution_count": 7,
   "id": "b3155581-768a-491a-aa8a-323a24327d4c",
   "metadata": {},
   "outputs": [],
   "source": [
    "demand_df = pd.read_csv('demand.csv')\n",
    "demand_df['datetime'] = pd.to_datetime(demand_data['datetime'] , format='%m/%d/%Y %H:%M')\n",
    "demand_df.rename(columns={'actual_performance(10000 kW)': 'demand'}, inplace=True)"
   ]
  },
  {
   "cell_type": "code",
   "execution_count": 8,
   "id": "365e577a-8fb9-4a30-9d80-f4539110371b",
   "metadata": {},
   "outputs": [],
   "source": [
    "weather_files = {\n",
    "    'osaka': 'osaka.csv',\n",
    "    'hikone': 'hikone.csv',\n",
    "    'kyoto': 'kyoto.csv',\n",
    "    'kobe': 'kobe.csv',\n",
    "    'shionomisaki': 'shionomisaki.csv',\n",
    "    'toyooka': 'toyooka.csv',\n",
    "    'wakayama': 'wakayama.csv'\n",
    "}\n",
    "\n",
    "weather_weights = {\n",
    "    'osaka': 0.25,\n",
    "    'hikone': 0.15,\n",
    "    'kyoto': 0.2,\n",
    "    'kobe': 0.15,\n",
    "    'shionomisaki': 0.1,\n",
    "    'toyooka': 0.1,\n",
    "    'wakayama': 0.05\n",
    "}"
   ]
  },
  {
   "cell_type": "code",
   "execution_count": 9,
   "id": "c010d0a5-2664-4831-83c9-398d1180d8c1",
   "metadata": {},
   "outputs": [],
   "source": [
    "# Load each weather file into a dictionary.\n",
    "weather_dfs = {}\n",
    "for loc, file in weather_files.items():\n",
    "    df = pd.read_csv(file)\n",
    "    df['datetime'] = pd.to_datetime(df['datetime'])\n",
    "    weather_dfs[loc] = df"
   ]
  },
  {
   "cell_type": "code",
   "execution_count": 10,
   "id": "7a0d1615-5bcf-435d-902b-ef1f23e05b94",
   "metadata": {},
   "outputs": [
    {
     "data": {
      "text/html": [
       "<style>#sk-container-id-1 {color: black;background-color: white;}#sk-container-id-1 pre{padding: 0;}#sk-container-id-1 div.sk-toggleable {background-color: white;}#sk-container-id-1 label.sk-toggleable__label {cursor: pointer;display: block;width: 100%;margin-bottom: 0;padding: 0.3em;box-sizing: border-box;text-align: center;}#sk-container-id-1 label.sk-toggleable__label-arrow:before {content: \"▸\";float: left;margin-right: 0.25em;color: #696969;}#sk-container-id-1 label.sk-toggleable__label-arrow:hover:before {color: black;}#sk-container-id-1 div.sk-estimator:hover label.sk-toggleable__label-arrow:before {color: black;}#sk-container-id-1 div.sk-toggleable__content {max-height: 0;max-width: 0;overflow: hidden;text-align: left;background-color: #f0f8ff;}#sk-container-id-1 div.sk-toggleable__content pre {margin: 0.2em;color: black;border-radius: 0.25em;background-color: #f0f8ff;}#sk-container-id-1 input.sk-toggleable__control:checked~div.sk-toggleable__content {max-height: 200px;max-width: 100%;overflow: auto;}#sk-container-id-1 input.sk-toggleable__control:checked~label.sk-toggleable__label-arrow:before {content: \"▾\";}#sk-container-id-1 div.sk-estimator input.sk-toggleable__control:checked~label.sk-toggleable__label {background-color: #d4ebff;}#sk-container-id-1 div.sk-label input.sk-toggleable__control:checked~label.sk-toggleable__label {background-color: #d4ebff;}#sk-container-id-1 input.sk-hidden--visually {border: 0;clip: rect(1px 1px 1px 1px);clip: rect(1px, 1px, 1px, 1px);height: 1px;margin: -1px;overflow: hidden;padding: 0;position: absolute;width: 1px;}#sk-container-id-1 div.sk-estimator {font-family: monospace;background-color: #f0f8ff;border: 1px dotted black;border-radius: 0.25em;box-sizing: border-box;margin-bottom: 0.5em;}#sk-container-id-1 div.sk-estimator:hover {background-color: #d4ebff;}#sk-container-id-1 div.sk-parallel-item::after {content: \"\";width: 100%;border-bottom: 1px solid gray;flex-grow: 1;}#sk-container-id-1 div.sk-label:hover label.sk-toggleable__label {background-color: #d4ebff;}#sk-container-id-1 div.sk-serial::before {content: \"\";position: absolute;border-left: 1px solid gray;box-sizing: border-box;top: 0;bottom: 0;left: 50%;z-index: 0;}#sk-container-id-1 div.sk-serial {display: flex;flex-direction: column;align-items: center;background-color: white;padding-right: 0.2em;padding-left: 0.2em;position: relative;}#sk-container-id-1 div.sk-item {position: relative;z-index: 1;}#sk-container-id-1 div.sk-parallel {display: flex;align-items: stretch;justify-content: center;background-color: white;position: relative;}#sk-container-id-1 div.sk-item::before, #sk-container-id-1 div.sk-parallel-item::before {content: \"\";position: absolute;border-left: 1px solid gray;box-sizing: border-box;top: 0;bottom: 0;left: 50%;z-index: -1;}#sk-container-id-1 div.sk-parallel-item {display: flex;flex-direction: column;z-index: 1;position: relative;background-color: white;}#sk-container-id-1 div.sk-parallel-item:first-child::after {align-self: flex-end;width: 50%;}#sk-container-id-1 div.sk-parallel-item:last-child::after {align-self: flex-start;width: 50%;}#sk-container-id-1 div.sk-parallel-item:only-child::after {width: 0;}#sk-container-id-1 div.sk-dashed-wrapped {border: 1px dashed gray;margin: 0 0.4em 0.5em 0.4em;box-sizing: border-box;padding-bottom: 0.4em;background-color: white;}#sk-container-id-1 div.sk-label label {font-family: monospace;font-weight: bold;display: inline-block;line-height: 1.2em;}#sk-container-id-1 div.sk-label-container {text-align: center;}#sk-container-id-1 div.sk-container {/* jupyter's `normalize.less` sets `[hidden] { display: none; }` but bootstrap.min.css set `[hidden] { display: none !important; }` so we also need the `!important` here to be able to override the default hidden behavior on the sphinx rendered scikit-learn.org. See: https://github.com/scikit-learn/scikit-learn/issues/21755 */display: inline-block !important;position: relative;}#sk-container-id-1 div.sk-text-repr-fallback {display: none;}</style><div id=\"sk-container-id-1\" class=\"sk-top-container\"><div class=\"sk-text-repr-fallback\"><pre>LabelEncoder()</pre><b>In a Jupyter environment, please rerun this cell to show the HTML representation or trust the notebook. <br />On GitHub, the HTML representation is unable to render, please try loading this page with nbviewer.org.</b></div><div class=\"sk-container\" hidden><div class=\"sk-item\"><div class=\"sk-estimator sk-toggleable\"><input class=\"sk-toggleable__control sk-hidden--visually\" id=\"sk-estimator-id-1\" type=\"checkbox\" checked><label for=\"sk-estimator-id-1\" class=\"sk-toggleable__label sk-toggleable__label-arrow\">LabelEncoder</label><div class=\"sk-toggleable__content\"><pre>LabelEncoder()</pre></div></div></div></div></div>"
      ],
      "text/plain": [
       "LabelEncoder()"
      ]
     },
     "execution_count": 10,
     "metadata": {},
     "output_type": "execute_result"
    }
   ],
   "source": [
    "# Combine all wind_direction values from each location for a common LabelEncoder.\n",
    "all_wind = pd.concat([df['wind_direction'] for df in weather_dfs.values()])\n",
    "le = LabelEncoder()\n",
    "le.fit(all_wind)"
   ]
  },
  {
   "cell_type": "code",
   "execution_count": 11,
   "id": "c9e668b5-d138-4f0d-9923-efe40036bb72",
   "metadata": {},
   "outputs": [],
   "source": [
    "# Transform wind_direction in each dataframe.\n",
    "for loc in weather_dfs:\n",
    "    weather_dfs[loc]['wind_direction'] = le.transform(weather_dfs[loc]['wind_direction'])"
   ]
  },
  {
   "cell_type": "code",
   "execution_count": 12,
   "id": "e7c6691f-4ab4-4cc9-8fdb-251b0269edb9",
   "metadata": {},
   "outputs": [],
   "source": [
    "# List of numeric weather variables to aggregate.\n",
    "weather_vars = ['precipitation', 'temperature', 'dew_point_temperature', \n",
    "                'humidity', 'wind_speed', 'snowfall']"
   ]
  },
  {
   "cell_type": "code",
   "execution_count": 13,
   "id": "747a735a-10df-4543-a78f-b872366a969d",
   "metadata": {},
   "outputs": [],
   "source": [
    "# Create an aggregated dataframe using the datetime column from one of the files.\n",
    "aggregated_weather = weather_dfs[next(iter(weather_dfs))][['datetime']].copy()\n",
    "for var in weather_vars:\n",
    "    aggregated_weather[var] = 0.0\n",
    "# For wind_direction, we’ll compute a weighted average of the encoded values.\n",
    "aggregated_weather['wind_direction'] = 0.0"
   ]
  },
  {
   "cell_type": "code",
   "execution_count": 15,
   "id": "14fa1e80-5203-4c59-868d-910813a62dc6",
   "metadata": {},
   "outputs": [],
   "source": [
    "# Loop through each location and accumulate weighted values.\n",
    "for loc, df in weather_dfs.items():\n",
    "    w = weather_weights[loc]\n",
    "    for var in weather_vars:\n",
    "        aggregated_weather[var] += w * df[var]\n",
    "    aggregated_weather['wind_direction'] += w * df['wind_direction']\n",
    "\n",
    "# Optionally, round wind_direction to the nearest integer.\n",
    "aggregated_weather['wind_direction'] = aggregated_weather['wind_direction'].round().astype(int)"
   ]
  },
  {
   "cell_type": "code",
   "execution_count": 16,
   "id": "424de0b7-5451-4fb3-a57f-b650c7348a27",
   "metadata": {},
   "outputs": [],
   "source": [
    "merged_df = pd.merge(demand_df, aggregated_weather, on='datetime', how='inner')"
   ]
  },
  {
   "cell_type": "code",
   "execution_count": 18,
   "id": "f9a1c056-40c2-4550-98d5-4506f89a3186",
   "metadata": {},
   "outputs": [
    {
     "name": "stdout",
     "output_type": "stream",
     "text": [
      "<class 'pandas.core.frame.DataFrame'>\n",
      "RangeIndex: 26280 entries, 0 to 26279\n",
      "Data columns (total 13 columns):\n",
      " #   Column                 Non-Null Count  Dtype         \n",
      "---  ------                 --------------  -----         \n",
      " 0   datetime               26280 non-null  datetime64[ns]\n",
      " 1   demand                 26280 non-null  int64         \n",
      " 2   precipitation          26280 non-null  float64       \n",
      " 3   temperature            26280 non-null  float64       \n",
      " 4   dew_point_temperature  26280 non-null  float64       \n",
      " 5   humidity               26280 non-null  float64       \n",
      " 6   wind_speed             26280 non-null  float64       \n",
      " 7   snowfall               26280 non-null  float64       \n",
      " 8   wind_direction         26280 non-null  int32         \n",
      " 9   hour                   26280 non-null  int32         \n",
      " 10  day                    26280 non-null  int32         \n",
      " 11  month                  26280 non-null  int32         \n",
      " 12  weekday                26280 non-null  int32         \n",
      "dtypes: datetime64[ns](1), float64(6), int32(5), int64(1)\n",
      "memory usage: 2.1 MB\n",
      "             datetime  demand  precipitation  temperature  \\\n",
      "0 2021-01-01 00:00:00    1571            0.1         3.45   \n",
      "1 2021-01-01 01:00:00    1492            0.3         3.63   \n",
      "2 2021-01-01 02:00:00    1453            0.1         3.43   \n",
      "3 2021-01-01 03:00:00    1412            0.2         2.74   \n",
      "4 2021-01-01 04:00:00    1358            0.1         3.15   \n",
      "\n",
      "   dew_point_temperature  humidity  wind_speed  snowfall  wind_direction  \\\n",
      "0                  -7.65     134.7        8.11       0.2              27   \n",
      "1                  -7.29     135.5        7.15       0.4              27   \n",
      "2                  -7.39     135.9        7.06       0.0              25   \n",
      "3                  -7.37     139.5        6.93       0.4              26   \n",
      "4                  -6.53     141.6        6.66       0.0              22   \n",
      "\n",
      "   hour  day  month  weekday  \n",
      "0     0    1      1        4  \n",
      "1     1    1      1        4  \n",
      "2     2    1      1        4  \n",
      "3     3    1      1        4  \n",
      "4     4    1      1        4  \n"
     ]
    }
   ],
   "source": [
    "# Extract time-based features.\n",
    "merged_df['hour'] = merged_df['datetime'].dt.hour\n",
    "merged_df['day'] = merged_df['datetime'].dt.day\n",
    "merged_df['month'] = merged_df['datetime'].dt.month\n",
    "merged_df['weekday'] = merged_df['datetime'].dt.weekday\n",
    "\n",
    "merged_df.info()\n",
    "print(merged_df.head())"
   ]
  },
  {
   "cell_type": "code",
   "execution_count": 19,
   "id": "14945c00-e992-4e60-b7e2-18ed8eb71693",
   "metadata": {},
   "outputs": [],
   "source": [
    "# Create a holiday indicator using jpholiday.\n",
    "merged_df['is_holiday'] = merged_df['datetime'].dt.date.apply(lambda d: 1 if jpholiday.is_holiday(d) else 0)\n",
    "\n",
    "# List of features to use in the model.\n",
    "features = [\n",
    "    'hour', 'day', 'month', 'weekday', 'is_holiday',\n",
    "    'precipitation', 'temperature', 'dew_point_temperature',\n",
    "    'humidity', 'wind_speed', 'wind_direction', 'snowfall'\n",
    "]"
   ]
  },
  {
   "cell_type": "code",
   "execution_count": 20,
   "id": "302a8040-36ce-443d-9a28-568360476e97",
   "metadata": {},
   "outputs": [],
   "source": [
    "# Forecast target period: January 1, 2023, 00:00:00 to December 31, 2023, 23:00:00\n",
    "forecast_start = pd.to_datetime('2023-01-01')\n",
    "forecast_end   = pd.to_datetime('2023-12-31 23:00:00')"
   ]
  },
  {
   "cell_type": "code",
   "execution_count": 21,
   "id": "2a7831d2-7458-47c4-bff2-64f6d7eac2ca",
   "metadata": {},
   "outputs": [],
   "source": [
    "# For training, use data up to December 31, 2022.\n",
    "train_data = merged_df[merged_df['datetime'] < forecast_start]\n",
    "\n",
    "# For forecasting (or evaluation), select data in 2023.\n",
    "test_data = merged_df[(merged_df['datetime'] >= forecast_start) & (merged_df['datetime'] <= forecast_end)]\n",
    "\n",
    "X_train = train_data[features]\n",
    "y_train = train_data['demand']\n",
    "X_test  = test_data[features]\n",
    "y_test  = test_data['demand']  "
   ]
  },
  {
   "cell_type": "code",
   "execution_count": 22,
   "id": "fc461106-1cb2-4f4e-8486-d79a62cbe53a",
   "metadata": {},
   "outputs": [
    {
     "data": {
      "text/html": [
       "<style>#sk-container-id-2 {color: black;background-color: white;}#sk-container-id-2 pre{padding: 0;}#sk-container-id-2 div.sk-toggleable {background-color: white;}#sk-container-id-2 label.sk-toggleable__label {cursor: pointer;display: block;width: 100%;margin-bottom: 0;padding: 0.3em;box-sizing: border-box;text-align: center;}#sk-container-id-2 label.sk-toggleable__label-arrow:before {content: \"▸\";float: left;margin-right: 0.25em;color: #696969;}#sk-container-id-2 label.sk-toggleable__label-arrow:hover:before {color: black;}#sk-container-id-2 div.sk-estimator:hover label.sk-toggleable__label-arrow:before {color: black;}#sk-container-id-2 div.sk-toggleable__content {max-height: 0;max-width: 0;overflow: hidden;text-align: left;background-color: #f0f8ff;}#sk-container-id-2 div.sk-toggleable__content pre {margin: 0.2em;color: black;border-radius: 0.25em;background-color: #f0f8ff;}#sk-container-id-2 input.sk-toggleable__control:checked~div.sk-toggleable__content {max-height: 200px;max-width: 100%;overflow: auto;}#sk-container-id-2 input.sk-toggleable__control:checked~label.sk-toggleable__label-arrow:before {content: \"▾\";}#sk-container-id-2 div.sk-estimator input.sk-toggleable__control:checked~label.sk-toggleable__label {background-color: #d4ebff;}#sk-container-id-2 div.sk-label input.sk-toggleable__control:checked~label.sk-toggleable__label {background-color: #d4ebff;}#sk-container-id-2 input.sk-hidden--visually {border: 0;clip: rect(1px 1px 1px 1px);clip: rect(1px, 1px, 1px, 1px);height: 1px;margin: -1px;overflow: hidden;padding: 0;position: absolute;width: 1px;}#sk-container-id-2 div.sk-estimator {font-family: monospace;background-color: #f0f8ff;border: 1px dotted black;border-radius: 0.25em;box-sizing: border-box;margin-bottom: 0.5em;}#sk-container-id-2 div.sk-estimator:hover {background-color: #d4ebff;}#sk-container-id-2 div.sk-parallel-item::after {content: \"\";width: 100%;border-bottom: 1px solid gray;flex-grow: 1;}#sk-container-id-2 div.sk-label:hover label.sk-toggleable__label {background-color: #d4ebff;}#sk-container-id-2 div.sk-serial::before {content: \"\";position: absolute;border-left: 1px solid gray;box-sizing: border-box;top: 0;bottom: 0;left: 50%;z-index: 0;}#sk-container-id-2 div.sk-serial {display: flex;flex-direction: column;align-items: center;background-color: white;padding-right: 0.2em;padding-left: 0.2em;position: relative;}#sk-container-id-2 div.sk-item {position: relative;z-index: 1;}#sk-container-id-2 div.sk-parallel {display: flex;align-items: stretch;justify-content: center;background-color: white;position: relative;}#sk-container-id-2 div.sk-item::before, #sk-container-id-2 div.sk-parallel-item::before {content: \"\";position: absolute;border-left: 1px solid gray;box-sizing: border-box;top: 0;bottom: 0;left: 50%;z-index: -1;}#sk-container-id-2 div.sk-parallel-item {display: flex;flex-direction: column;z-index: 1;position: relative;background-color: white;}#sk-container-id-2 div.sk-parallel-item:first-child::after {align-self: flex-end;width: 50%;}#sk-container-id-2 div.sk-parallel-item:last-child::after {align-self: flex-start;width: 50%;}#sk-container-id-2 div.sk-parallel-item:only-child::after {width: 0;}#sk-container-id-2 div.sk-dashed-wrapped {border: 1px dashed gray;margin: 0 0.4em 0.5em 0.4em;box-sizing: border-box;padding-bottom: 0.4em;background-color: white;}#sk-container-id-2 div.sk-label label {font-family: monospace;font-weight: bold;display: inline-block;line-height: 1.2em;}#sk-container-id-2 div.sk-label-container {text-align: center;}#sk-container-id-2 div.sk-container {/* jupyter's `normalize.less` sets `[hidden] { display: none; }` but bootstrap.min.css set `[hidden] { display: none !important; }` so we also need the `!important` here to be able to override the default hidden behavior on the sphinx rendered scikit-learn.org. See: https://github.com/scikit-learn/scikit-learn/issues/21755 */display: inline-block !important;position: relative;}#sk-container-id-2 div.sk-text-repr-fallback {display: none;}</style><div id=\"sk-container-id-2\" class=\"sk-top-container\"><div class=\"sk-text-repr-fallback\"><pre>XGBRegressor(base_score=None, booster=None, callbacks=None,\n",
       "             colsample_bylevel=None, colsample_bynode=None,\n",
       "             colsample_bytree=None, device=None, early_stopping_rounds=None,\n",
       "             enable_categorical=False, eval_metric=None, feature_types=None,\n",
       "             gamma=None, grow_policy=None, importance_type=None,\n",
       "             interaction_constraints=None, learning_rate=0.1, max_bin=None,\n",
       "             max_cat_threshold=None, max_cat_to_onehot=None,\n",
       "             max_delta_step=None, max_depth=6, max_leaves=None,\n",
       "             min_child_weight=None, missing=nan, monotone_constraints=None,\n",
       "             multi_strategy=None, n_estimators=100, n_jobs=None,\n",
       "             num_parallel_tree=None, random_state=42, ...)</pre><b>In a Jupyter environment, please rerun this cell to show the HTML representation or trust the notebook. <br />On GitHub, the HTML representation is unable to render, please try loading this page with nbviewer.org.</b></div><div class=\"sk-container\" hidden><div class=\"sk-item\"><div class=\"sk-estimator sk-toggleable\"><input class=\"sk-toggleable__control sk-hidden--visually\" id=\"sk-estimator-id-2\" type=\"checkbox\" checked><label for=\"sk-estimator-id-2\" class=\"sk-toggleable__label sk-toggleable__label-arrow\">XGBRegressor</label><div class=\"sk-toggleable__content\"><pre>XGBRegressor(base_score=None, booster=None, callbacks=None,\n",
       "             colsample_bylevel=None, colsample_bynode=None,\n",
       "             colsample_bytree=None, device=None, early_stopping_rounds=None,\n",
       "             enable_categorical=False, eval_metric=None, feature_types=None,\n",
       "             gamma=None, grow_policy=None, importance_type=None,\n",
       "             interaction_constraints=None, learning_rate=0.1, max_bin=None,\n",
       "             max_cat_threshold=None, max_cat_to_onehot=None,\n",
       "             max_delta_step=None, max_depth=6, max_leaves=None,\n",
       "             min_child_weight=None, missing=nan, monotone_constraints=None,\n",
       "             multi_strategy=None, n_estimators=100, n_jobs=None,\n",
       "             num_parallel_tree=None, random_state=42, ...)</pre></div></div></div></div></div>"
      ],
      "text/plain": [
       "XGBRegressor(base_score=None, booster=None, callbacks=None,\n",
       "             colsample_bylevel=None, colsample_bynode=None,\n",
       "             colsample_bytree=None, device=None, early_stopping_rounds=None,\n",
       "             enable_categorical=False, eval_metric=None, feature_types=None,\n",
       "             gamma=None, grow_policy=None, importance_type=None,\n",
       "             interaction_constraints=None, learning_rate=0.1, max_bin=None,\n",
       "             max_cat_threshold=None, max_cat_to_onehot=None,\n",
       "             max_delta_step=None, max_depth=6, max_leaves=None,\n",
       "             min_child_weight=None, missing=nan, monotone_constraints=None,\n",
       "             multi_strategy=None, n_estimators=100, n_jobs=None,\n",
       "             num_parallel_tree=None, random_state=42, ...)"
      ]
     },
     "execution_count": 22,
     "metadata": {},
     "output_type": "execute_result"
    }
   ],
   "source": [
    "# Initialize XGBoost Regressor (adjust hyperparameters as needed).\n",
    "model = xgb.XGBRegressor(n_estimators=100, learning_rate=0.1, max_depth=6, random_state=42)\n",
    "model.fit(X_train, y_train)"
   ]
  },
  {
   "cell_type": "code",
   "execution_count": 23,
   "id": "0e5203c7-2bb2-4523-b4bc-6a3fb214c32c",
   "metadata": {},
   "outputs": [],
   "source": [
    "# Forecast electricity demand for 2023.\n",
    "forecast = model.predict(X_test)"
   ]
  },
  {
   "cell_type": "code",
   "execution_count": 24,
   "id": "dbf19dc9-f158-445a-91cd-f0cbe3cbb690",
   "metadata": {},
   "outputs": [
    {
     "name": "stdout",
     "output_type": "stream",
     "text": [
      "Mean Absolute Error on 2023 forecast: 58.624667400203336\n"
     ]
    }
   ],
   "source": [
    "# Evaluate forecast performance if actual values are available.\n",
    "mae = mean_absolute_error(y_test, forecast)\n",
    "print(\"Mean Absolute Error on 2023 forecast:\", mae)"
   ]
  },
  {
   "cell_type": "code",
   "execution_count": 26,
   "id": "b1862145-4396-472a-bd8c-793b49b7dbb2",
   "metadata": {},
   "outputs": [
    {
     "name": "stdout",
     "output_type": "stream",
     "text": [
      "Forecast saved to 'forecast_2023.csv'.\n"
     ]
    },
    {
     "name": "stderr",
     "output_type": "stream",
     "text": [
      "C:\\Users\\dell\\AppData\\Local\\Temp\\ipykernel_22532\\3049696942.py:2: SettingWithCopyWarning: \n",
      "A value is trying to be set on a copy of a slice from a DataFrame.\n",
      "Try using .loc[row_indexer,col_indexer] = value instead\n",
      "\n",
      "See the caveats in the documentation: https://pandas.pydata.org/pandas-docs/stable/user_guide/indexing.html#returning-a-view-versus-a-copy\n",
      "  test_data['forecast_demand'] = forecast\n"
     ]
    }
   ],
   "source": [
    "# Append forecast to the test data and save to CSV.\n",
    "test_data['forecast_demand'] = forecast\n",
    "test_data[['datetime', 'forecast_demand']].to_csv('forecast_2023.csv', index=False)\n",
    "print(\"Forecast saved to 'forecast_2023.csv'.\")"
   ]
  }
 ],
 "metadata": {
  "kernelspec": {
   "display_name": "Python 3 (ipykernel)",
   "language": "python",
   "name": "python3"
  },
  "language_info": {
   "codemirror_mode": {
    "name": "ipython",
    "version": 3
   },
   "file_extension": ".py",
   "mimetype": "text/x-python",
   "name": "python",
   "nbconvert_exporter": "python",
   "pygments_lexer": "ipython3",
   "version": "3.11.7"
  }
 },
 "nbformat": 4,
 "nbformat_minor": 5
}
